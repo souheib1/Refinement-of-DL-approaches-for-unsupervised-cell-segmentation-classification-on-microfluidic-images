{
 "cells": [
  {
   "cell_type": "code",
   "execution_count": null,
   "metadata": {},
   "outputs": [],
   "source": [
    "from glob import glob\n",
    "import numpy as np\n",
    "from skimage import measure, io, transform\n",
    "import matplotlib.pyplot as plt\n",
    "from matplotlib.patches import Rectangle\n",
    "import cv2\n",
    "import seaborn as sns\n",
    "import warnings\n",
    "import os"
   ]
  },
  {
   "cell_type": "markdown",
   "metadata": {},
   "source": [
    "### Useful functions"
   ]
  },
  {
   "cell_type": "code",
   "execution_count": null,
   "metadata": {},
   "outputs": [],
   "source": [
    "def bound_box(image, labeled_mask, aff=True, edgecolor='red', linewidth=1):\n",
    "    \"\"\"\n",
    "    Plot bounding boxes around regions in the image corresponding to the labeled mask.\n",
    "\n",
    "    Args:\n",
    "        image (array-like): Input image.\n",
    "        labeled_mask (array-like): Labeled mask of the regions in the image.\n",
    "        aff (bool, optional): Flag to enable or disable plotting. Default is True (enabled).\n",
    "\n",
    "    Returns:\n",
    "        list: List of bounding boxes, where each bounding box is represented as [label, (min_row, min_col, max_row, max_col)].\n",
    "\n",
    "    Example:\n",
    "        bboxs = plot_bbox(image, labeled_mask, aff=True)\n",
    "    \"\"\"\n",
    "    props = measure.regionprops(labeled_mask)\n",
    "    bboxs = []\n",
    "\n",
    "    for prop in props:\n",
    "        label = prop.label\n",
    "        min_row, min_col, max_row, max_col = prop.bbox\n",
    "        bboxs.append([label, (min_row, min_col, max_row, max_col)])\n",
    "\n",
    "    if aff:\n",
    "        fig, ax = plt.subplots(figsize=(15, 15))\n",
    "        ax.imshow(image, cmap='gray')\n",
    "        ax.grid(False)\n",
    "        ax.axis('off')\n",
    "\n",
    "        for bbox in bboxs:\n",
    "            label, (min_row, min_col, max_row, max_col) = bbox\n",
    "            rect = Rectangle((min_col, min_row), max_col - min_col, max_row - min_row,\n",
    "                             fill=False, edgecolor=edgecolor, linewidth=linewidth)\n",
    "            ax.add_patch(rect)\n",
    "            # ax.text(min_col, min_row, str(label), color='white', fontsize=8,\n",
    "            #         verticalalignment='top', bbox={'color': 'red', 'pad': 0, 'alpha': 0.5})\n",
    "\n",
    "    plt.title(\"Bounding boxes of the cells\")\n",
    "    plt.show()\n",
    "    return bboxs"
   ]
  },
  {
   "cell_type": "code",
   "execution_count": null,
   "metadata": {},
   "outputs": [],
   "source": [
    "def histogram_distbox_Feature(data_list, feature):\n",
    "    \"\"\"\n",
    "    A function to plot the distribution and box plot of a feature\n",
    "\n",
    "    Parameters:\n",
    "        data_list (list): A list containing the data for the specified feature.\n",
    "        feature (str): The name of the feature for labeling the plots.\n",
    "    \"\"\"\n",
    "\n",
    "    fig, axes = plt.subplots(1, 2, figsize=(20, 6))\n",
    "    ax1 = sns.histplot(data=data_list, ax=axes[0], kde=True, bins=30)\n",
    "    ax2 = sns.boxplot(data_list, ax=axes[1], whis=2.5)\n",
    "    ax1.set_xlabel(feature)\n",
    "    ax1.set_title(\"Histogram and KDE\")\n",
    "    ax2.set_xlabel(feature)\n",
    "    ax2.set_title(\"Box Plot\")\n",
    "    plt.show()\n",
    "    print(\"mean \" + feature, np.mean(data_list))"
   ]
  },
  {
   "cell_type": "code",
   "execution_count": null,
   "metadata": {},
   "outputs": [],
   "source": [
    "def properties_ROI(mask, aff=True):\n",
    "    \"\"\"\n",
    "    Calculate the area, height, and width of each bounding box of the regions of interest (ROI),\n",
    "    and optionally generate and display histograms of these properties.\n",
    "\n",
    "    Parameters:\n",
    "        img (numpy.ndarray): The input image.\n",
    "            An array representing the image to analyze.\n",
    "\n",
    "        mask (numpy.ndarray): Binary mask indicating regions of interest (ROI).\n",
    "            The mask should have the same dimensions as the input image (img).\n",
    "\n",
    "        aff (bool, optional): Whether to display histograms of the calculated properties.\n",
    "\n",
    "    Returns:\n",
    "        tuple: A tuple containing three lists, each representing the calculated properties of\n",
    "        the bounding boxes of ROIs.\n",
    "    \"\"\"\n",
    "    props = measure.regionprops(mask)\n",
    "    areas = []\n",
    "    heights = []\n",
    "    widths = []\n",
    "\n",
    "    for prop in props:\n",
    "        min_row, min_col, max_row, max_col = prop.bbox\n",
    "        areas.append(prop.area)\n",
    "        heights.append(max_row - min_row)\n",
    "        widths.append(max_col - min_col)\n",
    "\n",
    "    if aff:\n",
    "        histogram_distbox_Feature(areas, \"area\")\n",
    "        histogram_distbox_Feature(heights, \"height\")\n",
    "        histogram_distbox_Feature(widths, \"width\")\n",
    "\n",
    "    return(areas, heights, widths)"
   ]
  },
  {
   "cell_type": "code",
   "execution_count": null,
   "metadata": {},
   "outputs": [],
   "source": [
    "def plot_features(data, feature=\"Value\"):\n",
    "    \"\"\"\n",
    "    Create a scatter plot to visualize values of images corresponding to different experiences.\n",
    "\n",
    "    Parameters:\n",
    "        data (dict): A dictionary where the keys are tuples representing the experience and image,\n",
    "                     and the values are the extracted values.\n",
    "\n",
    "    Returns:\n",
    "        None: This function displays the plot using `matplotlib.pyplot.show()`.\n",
    "    \"\"\"\n",
    "\n",
    "    experiences = []\n",
    "    images = []\n",
    "    values = []\n",
    "\n",
    "    for (experience, image), value in data.items():\n",
    "        experiences.append(experience)\n",
    "        images.append(image)\n",
    "        values.append(value)\n",
    "\n",
    "    # Create a color map based on unique experiences\n",
    "    unique_experiences = list(set(experiences))\n",
    "    num_unique_experiences = len(unique_experiences)\n",
    "    color_map = plt.get_cmap('jet', num_unique_experiences)\n",
    "\n",
    "    # Convert experiences to numeric labels for color mapping\n",
    "    experience_labels = [unique_experiences.index(exp) for exp in experiences]\n",
    "    plt.scatter(images, values, c=experience_labels, cmap=color_map)\n",
    "\n",
    "    # Add colorbar and set labels\n",
    "    cbar = plt.colorbar()\n",
    "    cbar.set_ticks(np.arange(num_unique_experiences))\n",
    "    cbar.set_ticklabels(unique_experiences)\n",
    "    plt.xlabel('Image')\n",
    "    plt.ylabel(feature)\n",
    "    plt.title('Values of Images by Experience')\n",
    "    plt.show()"
   ]
  },
  {
   "cell_type": "markdown",
   "metadata": {},
   "source": [
    "## Cell image statistics: histograms and boxplots of ROI "
   ]
  },
  {
   "cell_type": "code",
   "execution_count": null,
   "metadata": {},
   "outputs": [],
   "source": [
    "Path_masks = \"./masks_channel_1/220429_ MCF10A  laminAC fibro phallo pattern mars 2022/masks/*PNG\"\n",
    "Path_masks = glob(Path_masks)\n",
    "Path_imges = \"./masks_channel_1/220429_ MCF10A  laminAC fibro phallo pattern mars 2022/images/*PNG\"\n",
    "Path_images = glob(Path_imges)"
   ]
  },
  {
   "cell_type": "code",
   "execution_count": null,
   "metadata": {},
   "outputs": [],
   "source": [
    "mask_path = Path_masks[0]\n",
    "image_path = Path_images[0]\n",
    "mask = io.imread(mask_path)\n",
    "image = io.imread(image_path)\n",
    "print(\"number of labels\", np.max(mask))\n",
    "fig, axes = plt.subplots(nrows=1, ncols=2, figsize=(17, 8))\n",
    "pl1 = axes[0].imshow(image, cmap='gray')\n",
    "axes[0].set_title(\"cell image\")\n",
    "pl2 = axes[1].imshow(mask, cmap='jet')\n",
    "axes[1].set_title(\"segmentation mask\")\n",
    "\n",
    "plt.show()"
   ]
  },
  {
   "cell_type": "code",
   "execution_count": null,
   "metadata": {},
   "outputs": [],
   "source": [
    "bboxs = bound_box(image, mask)"
   ]
  },
  {
   "cell_type": "code",
   "execution_count": null,
   "metadata": {},
   "outputs": [],
   "source": [
    "areas, heights, widths = properties_ROI(mask)"
   ]
  },
  {
   "cell_type": "code",
   "execution_count": null,
   "metadata": {},
   "outputs": [],
   "source": [
    "np.max(heights)"
   ]
  },
  {
   "cell_type": "markdown",
   "metadata": {},
   "source": [
    "## Statistics for all images: Comparison of experimental properties"
   ]
  },
  {
   "cell_type": "code",
   "execution_count": null,
   "metadata": {},
   "outputs": [],
   "source": [
    "PATH_DATA = \"./masks_channel_1/\"\n",
    "data_folders = os.listdir(PATH_DATA)\n",
    "mean_areas = {}\n",
    "mean_heights = {}\n",
    "mean_widths = {}\n",
    "\n",
    "max_areas = {}\n",
    "max_heights = {}\n",
    "max_widths = {}"
   ]
  },
  {
   "cell_type": "code",
   "execution_count": null,
   "metadata": {},
   "outputs": [],
   "source": [
    "for folder in data_folders:\n",
    "    PATH = os.path.join(PATH_DATA, folder, 'masks')\n",
    "    mask_paths = glob(PATH + \"/*PNG\")\n",
    "    i = 1\n",
    "    for path in mask_paths:\n",
    "        mask = io.imread(path)\n",
    "        areas, heights, widths = properties_ROI(mask, aff=False)\n",
    "        mean_areas[(folder, i)] = np.mean(areas)\n",
    "        max_areas[(folder, i)] = np.max(areas)\n",
    "\n",
    "        mean_heights[(folder, i)] = np.mean(heights)\n",
    "        max_heights[(folder, i)] = np.max(heights)\n",
    "\n",
    "        mean_widths[(folder, i)] = np.mean(widths)\n",
    "        max_widths[(folder, i)] = np.max(widths)\n",
    "        i += 1"
   ]
  },
  {
   "cell_type": "markdown",
   "metadata": {},
   "source": [
    "### Discussion of mean values : experience effect "
   ]
  },
  {
   "cell_type": "code",
   "execution_count": null,
   "metadata": {},
   "outputs": [],
   "source": [
    "plot_features(mean_areas, \"mean_area_ROI\")"
   ]
  },
  {
   "cell_type": "code",
   "execution_count": null,
   "metadata": {},
   "outputs": [],
   "source": [
    "plot_features(mean_heights, \"mean_height_ROI\")"
   ]
  },
  {
   "cell_type": "code",
   "execution_count": null,
   "metadata": {},
   "outputs": [],
   "source": [
    "plot_features(mean_widths, \"mean_width_ROI\")"
   ]
  },
  {
   "cell_type": "markdown",
   "metadata": {},
   "source": [
    "### Discussion of maximum values : crop size choice"
   ]
  },
  {
   "cell_type": "code",
   "execution_count": null,
   "metadata": {},
   "outputs": [],
   "source": [
    "plot_features(max_areas, \"max_area_ROI\")"
   ]
  },
  {
   "cell_type": "code",
   "execution_count": null,
   "metadata": {},
   "outputs": [],
   "source": [
    "plot_features(max_heights, \"max_height_ROI\")"
   ]
  },
  {
   "cell_type": "code",
   "execution_count": null,
   "metadata": {},
   "outputs": [],
   "source": [
    "plot_features(max_widths, \"max_width_ROI\")"
   ]
  },
  {
   "cell_type": "code",
   "execution_count": null,
   "metadata": {},
   "outputs": [],
   "source": [
    "print(np.max(list(max_heights.values())))\n",
    "print(np.max(list(max_widths.values())))"
   ]
  },
  {
   "cell_type": "code",
   "execution_count": null,
   "metadata": {},
   "outputs": [],
   "source": []
  }
 ],
 "metadata": {
  "kernelspec": {
   "display_name": "Python 3 (ipykernel)",
   "language": "python",
   "name": "python3"
  },
  "language_info": {
   "codemirror_mode": {
    "name": "ipython",
    "version": 3
   },
   "file_extension": ".py",
   "mimetype": "text/x-python",
   "name": "python",
   "nbconvert_exporter": "python",
   "pygments_lexer": "ipython3",
   "version": "3.7.10"
  },
  "varInspector": {
   "cols": {
    "lenName": 16,
    "lenType": 16,
    "lenVar": 40
   },
   "kernels_config": {
    "python": {
     "delete_cmd_postfix": "",
     "delete_cmd_prefix": "del ",
     "library": "var_list.py",
     "varRefreshCmd": "print(var_dic_list())"
    },
    "r": {
     "delete_cmd_postfix": ") ",
     "delete_cmd_prefix": "rm(",
     "library": "var_list.r",
     "varRefreshCmd": "cat(var_dic_list()) "
    }
   },
   "types_to_exclude": [
    "module",
    "function",
    "builtin_function_or_method",
    "instance",
    "_Feature"
   ],
   "window_display": false
  }
 },
 "nbformat": 4,
 "nbformat_minor": 2
}
