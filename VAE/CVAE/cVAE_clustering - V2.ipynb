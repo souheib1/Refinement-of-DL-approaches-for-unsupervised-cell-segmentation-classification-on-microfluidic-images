{
 "cells": [
  {
   "cell_type": "markdown",
   "metadata": {},
   "source": [
    "<center> <h1> Clustering using Conditional Variational Autoencoder</h1> </center>"
   ]
  },
  {
   "cell_type": "code",
   "execution_count": null,
   "metadata": {},
   "outputs": [],
   "source": [
    "import numpy as np\n",
    "import torch\n",
    "import pandas as pd\n",
    "import torchvision\n",
    "from torchvision import transforms\n",
    "import matplotlib.pyplot as plt\n",
    "import seaborn as sns\n",
    "from sklearn.metrics import accuracy_score\n",
    "from sklearn.metrics import silhouette_score, davies_bouldin_score, calinski_harabasz_score\n",
    "from sklearn.mixture import GaussianMixture\n",
    "import warnings\n",
    "warnings.filterwarnings(\"ignore\")\n",
    "np.random.seed(42)\n",
    "sns.set_style('darkgrid')"
   ]
  },
  {
   "cell_type": "code",
   "execution_count": null,
   "metadata": {},
   "outputs": [],
   "source": [
    "from clustering_utils import umap, tSNE, compute_most_represented_class_per_cluster, substitute_classes_labels\n",
    "from cVAE_architecture import cVAE\n",
    "\n",
    "device = 'cuda:0' if torch.cuda.is_available() else 'cpu'\n",
    "batch_size = 128\n",
    "cmap = plt.cm.get_cmap('viridis', 10)"
   ]
  },
  {
   "cell_type": "markdown",
   "metadata": {},
   "source": [
    "## I. MNIST"
   ]
  },
  {
   "cell_type": "code",
   "execution_count": null,
   "metadata": {},
   "outputs": [],
   "source": [
    "# Define a transform to preprocess the data\n",
    "transform = transforms.Compose([transforms.ToTensor()])\n",
    "\n",
    "# Load the MNIST dataset\n",
    "train_dataset = torchvision.datasets.MNIST(\n",
    "    root='./mnist_data', train=True, transform=transform, download=True)\n",
    "test_dataset = torchvision.datasets.MNIST(\n",
    "    root='./mnist_data', train=False, transform=transform, download=True)\n",
    "\n",
    "# Create data loaders to handle batch processing\n",
    "batch_size = 128\n",
    "train_loader = torch.utils.data.DataLoader(\n",
    "    dataset=train_dataset, batch_size=batch_size, shuffle=True)\n",
    "test_loader = torch.utils.data.DataLoader(\n",
    "    dataset=test_dataset, batch_size=batch_size, shuffle=False)\n",
    "\n",
    "X_train = []\n",
    "Y_train = []\n",
    "for images, labels in train_loader:\n",
    "    X_train.append(images)\n",
    "    Y_train.append(labels)\n",
    "X_train = torch.cat(X_train, dim=0)\n",
    "Y_train = torch.cat(Y_train, dim=0)\n",
    "\n",
    "X_test = []\n",
    "Y_test = []\n",
    "for images, labels in test_loader:\n",
    "    X_test.append(images)\n",
    "    Y_test.append(labels)\n",
    "X_test = torch.cat(X_test, dim=0)\n",
    "Y_test = torch.cat(Y_test, dim=0)\n",
    "\n",
    "# Print shapes for verification\n",
    "print(\"X_train shape:\", X_train.shape)\n",
    "print(\"Y_train shape:\", Y_train.shape)\n",
    "print(\"X_test shape:\", X_test.shape)\n",
    "print(\"Y_test shape:\", Y_test.shape)"
   ]
  },
  {
   "cell_type": "markdown",
   "metadata": {},
   "source": [
    "## I.1 Latent_dim = 16"
   ]
  },
  {
   "cell_type": "code",
   "execution_count": null,
   "metadata": {},
   "outputs": [],
   "source": [
    "autoencoder_cvae = cVAE(num_labels=10, latent_dim=16)\n",
    "autoencoder_cvae.load_state_dict(torch.load(\n",
    "    './cVAE_models/cVAE_MNIST_zdim_16_epochs_15.pth'))"
   ]
  },
  {
   "cell_type": "markdown",
   "metadata": {},
   "source": [
    "Clustering using GaussianMixture"
   ]
  },
  {
   "cell_type": "code",
   "execution_count": null,
   "metadata": {},
   "outputs": [],
   "source": [
    "z_test = autoencoder_cvae.encode(X_test, Y_test)\n",
    "z_train = autoencoder_cvae.encode(X_train, Y_train)\n",
    "n_clusters = 10\n",
    "z_test = z_test.detach().numpy()\n",
    "z_train = z_train.detach().numpy()\n",
    "y_test = Y_test.detach().numpy()\n",
    "clustering = GaussianMixture(\n",
    "    n_components=n_clusters, covariance_type='full').fit(z_train)\n",
    "clustering_labels = clustering.predict(z_test)"
   ]
  },
  {
   "cell_type": "code",
   "execution_count": null,
   "metadata": {},
   "outputs": [],
   "source": [
    "umap(z_test, clustering_labels=clustering_labels,\n",
    "     true_labels=y_test, cmap=cmap, latent_space=16, data=\"MNIST\")"
   ]
  },
  {
   "cell_type": "code",
   "execution_count": null,
   "metadata": {},
   "outputs": [],
   "source": [
    "tSNE(z_test, clustering_labels=clustering_labels,\n",
    "     true_labels=y_test, cmap=cmap, latent_space=16, data=\"MNIST\")"
   ]
  },
  {
   "cell_type": "markdown",
   "metadata": {},
   "source": [
    "Samples of each cluster"
   ]
  },
  {
   "cell_type": "code",
   "execution_count": null,
   "metadata": {},
   "outputs": [],
   "source": [
    "# Samples from each cluster\n",
    "nb_samples = 10\n",
    "l = list(set(y_test))\n",
    "\n",
    "fig, axes = plt.subplots(n_clusters, nb_samples, figsize=(15, 8))\n",
    "for label2 in l:\n",
    "    for sample_index in range(nb_samples):\n",
    "        axes[label2][sample_index].imshow(\n",
    "            X_test[np.where(clustering_labels == label2)[0][sample_index]][0], cmap='gray')\n",
    "        axes[label2][sample_index].grid(False)\n",
    "        #axes[label][sample_index].set_title(f\"Sample {sample_index} for cluster {label}\")\n",
    "\n",
    "plt.show()"
   ]
  },
  {
   "cell_type": "code",
   "execution_count": null,
   "metadata": {},
   "outputs": [],
   "source": [
    "class_equivalence = compute_most_represented_class_per_cluster(\n",
    "    clustering_labels, y_test)\n",
    "print(\"class_equivalence: \", class_equivalence)\n",
    "y_pred = substitute_classes_labels(clustering_labels, class_equivalence)\n",
    "acc_16_mnist = accuracy_score(y_test, y_pred)\n",
    "print(acc_16_mnist)"
   ]
  },
  {
   "cell_type": "code",
   "execution_count": null,
   "metadata": {},
   "outputs": [],
   "source": [
    "s_16_mnist = silhouette_score(z_test, clustering_labels)\n",
    "db_16_mnist = davies_bouldin_score(z_test, clustering_labels)\n",
    "ch_16_mnist = calinski_harabasz_score(z_test, clustering_labels)\n",
    "print(\n",
    "    f\"Silhouette: {s_16_mnist:.4f}, DB: {db_16_mnist:.4f}, CH: {ch_16_mnist:.4f}\")"
   ]
  },
  {
   "cell_type": "markdown",
   "metadata": {},
   "source": [
    "## I.2 Latent_dim = 32"
   ]
  },
  {
   "cell_type": "code",
   "execution_count": null,
   "metadata": {},
   "outputs": [],
   "source": [
    "latent_dim = 32\n",
    "autoencoder_cvae_32 = cVAE(num_labels=10, latent_dim=32)\n",
    "autoencoder_cvae_32.load_state_dict(torch.load(\n",
    "    './cVAE_models/cVAE_MNIST_zdim_32_epochs_15.pth'))"
   ]
  },
  {
   "cell_type": "code",
   "execution_count": null,
   "metadata": {},
   "outputs": [],
   "source": [
    "z_test = autoencoder_cvae_32.encode(X_test, Y_test)\n",
    "z_train = autoencoder_cvae_32.encode(X_train, Y_train)\n",
    "n_clusters = 10\n",
    "z_test = z_test.detach().numpy()\n",
    "z_train = z_train.detach().numpy()\n",
    "y_test = Y_test.detach().numpy()\n",
    "clustering = GaussianMixture(\n",
    "    n_components=n_clusters, covariance_type='full').fit(z_train)\n",
    "clustering_labels = clustering.predict(z_test)"
   ]
  },
  {
   "cell_type": "code",
   "execution_count": null,
   "metadata": {},
   "outputs": [],
   "source": [
    "umap(z_test, clustering_labels=clustering_labels,\n",
    "     true_labels=y_test, cmap=cmap, latent_space=32, data=\"MNIST\")"
   ]
  },
  {
   "cell_type": "code",
   "execution_count": null,
   "metadata": {},
   "outputs": [],
   "source": [
    "tSNE(z_test, clustering_labels=clustering_labels,\n",
    "     true_labels=y_test, cmap=cmap, latent_space=32, data=\"MNIST\")"
   ]
  },
  {
   "cell_type": "code",
   "execution_count": null,
   "metadata": {},
   "outputs": [],
   "source": [
    "# Samples from each cluster\n",
    "nb_samples = 10\n",
    "l = list(set(y_test))\n",
    "\n",
    "fig, axes = plt.subplots(n_clusters, nb_samples, figsize=(15, 8))\n",
    "for label2 in l:\n",
    "    for sample_index in range(nb_samples):\n",
    "        axes[label2][sample_index].imshow(\n",
    "            X_test[np.where(clustering_labels == label2)[0][sample_index]][0], cmap='gray')\n",
    "        axes[label2][sample_index].grid(False)\n",
    "\n",
    "plt.show()"
   ]
  },
  {
   "cell_type": "code",
   "execution_count": null,
   "metadata": {},
   "outputs": [],
   "source": [
    "class_equivalence = compute_most_represented_class_per_cluster(\n",
    "    clustering_labels, y_test)\n",
    "print(\"class_equivalence: \", class_equivalence)\n",
    "y_pred = substitute_classes_labels(clustering_labels, class_equivalence)\n",
    "acc_32_mnist = accuracy_score(y_test, y_pred)\n",
    "print(\"accuracy = \", acc_32_mnist)"
   ]
  },
  {
   "cell_type": "code",
   "execution_count": null,
   "metadata": {},
   "outputs": [],
   "source": [
    "s_32_mnist = silhouette_score(z_test, clustering_labels)\n",
    "db_32_mnist = davies_bouldin_score(z_test, clustering_labels)\n",
    "ch_32_mnist = calinski_harabasz_score(z_test, clustering_labels)\n",
    "\n",
    "print(\n",
    "    f\"Silhouette: {s_32_mnist:.4f}, DB: {db_32_mnist:.4f}, CH: {ch_32_mnist:.4f}\")"
   ]
  },
  {
   "cell_type": "markdown",
   "metadata": {},
   "source": [
    "## II. FashionMnist "
   ]
  },
  {
   "cell_type": "code",
   "execution_count": null,
   "metadata": {},
   "outputs": [],
   "source": [
    "# Define a transform to preprocess the data\n",
    "transform = transforms.Compose([transforms.ToTensor()])\n",
    "\n",
    "# Load the MNIST dataset\n",
    "train_dataset = torchvision.datasets.FashionMNIST(\n",
    "    root='./FashionMNIST_data', train=True, transform=transform, download=True)\n",
    "test_dataset = torchvision.datasets.FashionMNIST(\n",
    "    root='./FashionMNIST_data', train=False, transform=transform, download=True)\n",
    "\n",
    "# Create data loaders to handle batch processing\n",
    "batch_size = 128\n",
    "train_loader = torch.utils.data.DataLoader(\n",
    "    dataset=train_dataset, batch_size=batch_size, shuffle=True)\n",
    "test_loader = torch.utils.data.DataLoader(\n",
    "    dataset=test_dataset, batch_size=batch_size, shuffle=False)\n",
    "\n",
    "X_train = []\n",
    "Y_train = []\n",
    "for images, labels in train_loader:\n",
    "    X_train.append(images)\n",
    "    Y_train.append(labels)\n",
    "X_train = torch.cat(X_train, dim=0)\n",
    "Y_train = torch.cat(Y_train, dim=0)\n",
    "\n",
    "X_test = []\n",
    "Y_test = []\n",
    "for images, labels in test_loader:\n",
    "    X_test.append(images)\n",
    "    Y_test.append(labels)\n",
    "X_test = torch.cat(X_test, dim=0)\n",
    "Y_test = torch.cat(Y_test, dim=0)\n",
    "\n",
    "# Print shapes for verification\n",
    "print(\"X_train shape:\", X_train.shape)\n",
    "print(\"Y_train shape:\", Y_train.shape)\n",
    "print(\"X_test shape:\", X_test.shape)\n",
    "print(\"Y_test shape:\", Y_test.shape)"
   ]
  },
  {
   "cell_type": "code",
   "execution_count": null,
   "metadata": {},
   "outputs": [],
   "source": [
    "img = X_train[6][0, :, :]\n",
    "plt.imshow(img, cmap='gray')\n",
    "plt.axis('off')\n",
    "plt.show()\n",
    "print(\"label = \", Y_train[6])"
   ]
  },
  {
   "cell_type": "markdown",
   "metadata": {},
   "source": [
    "## II.1 latent_dim = 16"
   ]
  },
  {
   "cell_type": "code",
   "execution_count": null,
   "metadata": {},
   "outputs": [],
   "source": [
    "latent_dim = 16\n",
    "autoencoder_cvae = cVAE(num_labels=10, latent_dim=16)\n",
    "autoencoder_cvae.load_state_dict(torch.load(\n",
    "    './cVAEFM_models/cVAE_MNIST_zdim_16_epochs_25.pth'))"
   ]
  },
  {
   "cell_type": "code",
   "execution_count": null,
   "metadata": {},
   "outputs": [],
   "source": [
    "z_test = autoencoder_cvae.encode(X_test, Y_test)\n",
    "z_train = autoencoder_cvae.encode(X_train, Y_train)\n",
    "n_clusters = 10\n",
    "z_test = z_test.detach().numpy()\n",
    "z_train = z_train.detach().numpy()\n",
    "y_test = Y_test.detach().numpy()\n",
    "clustering = GaussianMixture(\n",
    "    n_components=n_clusters, covariance_type='full').fit(z_train)\n",
    "clustering_labels = clustering.predict(z_test)"
   ]
  },
  {
   "cell_type": "code",
   "execution_count": null,
   "metadata": {},
   "outputs": [],
   "source": [
    "umap(z_test, clustering_labels=clustering_labels, true_labels=y_test,\n",
    "     cmap=cmap, latent_space=16, data=\"FashionMNIST\")"
   ]
  },
  {
   "cell_type": "code",
   "execution_count": null,
   "metadata": {},
   "outputs": [],
   "source": [
    "tSNE(z_test, clustering_labels=clustering_labels, true_labels=y_test,\n",
    "     cmap=cmap, latent_space=16, data=\"FashionMNIST\")"
   ]
  },
  {
   "cell_type": "code",
   "execution_count": null,
   "metadata": {},
   "outputs": [],
   "source": [
    "nb_samples = 10\n",
    "l = list(set(y_test))\n",
    "\n",
    "fig, axes = plt.subplots(n_clusters, nb_samples, figsize=(15, 8))\n",
    "for label2 in l:\n",
    "    for sample_index in range(nb_samples):\n",
    "        axes[label2][sample_index].imshow(\n",
    "            X_test[np.where(clustering_labels == label2)[0][sample_index]][0], cmap='gray')\n",
    "        axes[label2][sample_index].grid(False)\n",
    "\n",
    "plt.show()"
   ]
  },
  {
   "cell_type": "code",
   "execution_count": null,
   "metadata": {},
   "outputs": [],
   "source": [
    "class_equivalence = compute_most_represented_class_per_cluster(\n",
    "    clustering_labels, y_test)\n",
    "print(\"class_equivalence: \", class_equivalence)\n",
    "y_pred = substitute_classes_labels(clustering_labels, class_equivalence)\n",
    "acc_16_fashion = accuracy_score(y_test, y_pred)\n",
    "print(\"accuracy = \", acc_16_fashion)"
   ]
  },
  {
   "cell_type": "code",
   "execution_count": null,
   "metadata": {},
   "outputs": [],
   "source": [
    "s_16_fashion = silhouette_score(z_test, clustering_labels)\n",
    "db_16_fashion = davies_bouldin_score(z_test, clustering_labels)\n",
    "ch_16_fashion = calinski_harabasz_score(z_test, clustering_labels)\n",
    "\n",
    "print(\n",
    "    f\"Silhouette: {s_16_fashion:.4f}, DB: {db_16_fashion:.4f}, CH: {ch_16_fashion:.4f}\")"
   ]
  },
  {
   "cell_type": "markdown",
   "metadata": {},
   "source": [
    "## II.2 latent_dim = 32"
   ]
  },
  {
   "cell_type": "code",
   "execution_count": null,
   "metadata": {},
   "outputs": [],
   "source": [
    "latent_dim = 32\n",
    "autoencoder_cvae = cVAE(num_labels=10, latent_dim=32)\n",
    "autoencoder_cvae.load_state_dict(torch.load(\n",
    "    './cVAEFM_models/cVAE_MNIST_zdim_32_epochs_25.pth'))"
   ]
  },
  {
   "cell_type": "code",
   "execution_count": null,
   "metadata": {},
   "outputs": [],
   "source": [
    "z_test = autoencoder_cvae.encode(X_test, Y_test)\n",
    "z_train = autoencoder_cvae.encode(X_train, Y_train)\n",
    "n_clusters = 10\n",
    "z_test = z_test.detach().numpy()\n",
    "z_train = z_train.detach().numpy()\n",
    "y_test = Y_test.detach().numpy()\n",
    "clustering = GaussianMixture(\n",
    "    n_components=n_clusters, covariance_type='full').fit(z_train)\n",
    "clustering_labels = clustering.predict(z_test)"
   ]
  },
  {
   "cell_type": "code",
   "execution_count": null,
   "metadata": {},
   "outputs": [],
   "source": [
    "umap(z_test, clustering_labels=clustering_labels, true_labels=y_test,\n",
    "     cmap=cmap, latent_space=32, data=\"FashionMNIST\")"
   ]
  },
  {
   "cell_type": "code",
   "execution_count": null,
   "metadata": {},
   "outputs": [],
   "source": [
    "tSNE(z_test, clustering_labels=clustering_labels, true_labels=y_test,\n",
    "     cmap=cmap, latent_space=32, data=\"FashionMNIST\")"
   ]
  },
  {
   "cell_type": "code",
   "execution_count": null,
   "metadata": {},
   "outputs": [],
   "source": [
    "nb_samples = 10\n",
    "l = list(set(y_test))\n",
    "\n",
    "fig, axes = plt.subplots(n_clusters, nb_samples, figsize=(15, 8))\n",
    "for label2 in l:\n",
    "    for sample_index in range(nb_samples):\n",
    "        axes[label2][sample_index].imshow(\n",
    "            X_test[np.where(clustering_labels == label2)[0][sample_index]][0], cmap='gray')\n",
    "        axes[label2][sample_index].grid(False)\n",
    "\n",
    "plt.show()"
   ]
  },
  {
   "cell_type": "code",
   "execution_count": null,
   "metadata": {},
   "outputs": [],
   "source": [
    "class_equivalence = compute_most_represented_class_per_cluster(\n",
    "    clustering_labels, y_test)\n",
    "print(\"class_equivalence: \", class_equivalence)\n",
    "y_pred = substitute_classes_labels(clustering_labels, class_equivalence)\n",
    "acc_32_fashion = accuracy_score(y_test, y_pred)\n",
    "print(\"accuracy = \", acc_32_fashion)"
   ]
  },
  {
   "cell_type": "code",
   "execution_count": null,
   "metadata": {},
   "outputs": [],
   "source": [
    "s_32_fashion = silhouette_score(z_test, clustering_labels)\n",
    "db_32_fashion = davies_bouldin_score(z_test, clustering_labels)\n",
    "ch_32_fashion = calinski_harabasz_score(z_test, clustering_labels)\n",
    "\n",
    "print(\n",
    "    f\"Silhouette: {s_32_fashion:.4f}, DB: {db_32_fashion:.4f}, CH: {ch_32_fashion:.4f}\")"
   ]
  },
  {
   "cell_type": "code",
   "execution_count": null,
   "metadata": {},
   "outputs": [],
   "source": [
    "print(\" \")\n",
    "\n",
    "data = {'Dataset_Z_latentDim': ['Mnist_Z_16', 'Mnist_Z_32', 'FashionMnist_Z_16', 'FashionMnist_Z_32'],\n",
    "        'Accuracy': [acc_16_mnist, acc_32_mnist, acc_16_fashion, acc_32_fashion],\n",
    "        'Silhouette': [s_16_mnist, s_32_mnist, s_16_fashion, s_32_fashion],\n",
    "        'DB': [db_16_mnist, db_32_mnist, db_16_fashion, db_32_fashion],\n",
    "\n",
    "        'CH': [ch_16_mnist, ch_32_mnist, ch_16_fashion, ch_32_fashion]}\n",
    "\n",
    "df = pd.DataFrame(data)\n",
    "\n",
    "print(df.to_markdown(index=False))"
   ]
  },
  {
   "cell_type": "markdown",
   "metadata": {},
   "source": [
    "<blockquote> \n",
    "\n",
    "**Silhouette Score:**\n",
    "The silhouette score measures how similar an object is to its own cluster (cohesion) compared to other clusters (separation). It ranges from -1 to 1, where a high value indicates that the object is well matched to its own cluster and poorly matched to neighboring clusters.\n",
    "\n",
    "**Davies-Bouldin Index:**\n",
    "The Davies-Bouldin index measures the average similarity between each cluster and its most similar cluster. It evaluates both the compactness (small intra-cluster distance) and separation (large inter-cluster distance) of clusters. A lower value indicates better clustering.\n",
    "\n",
    "**Calinski-Harabasz Index:**\n",
    "The Calinski-Harabasz index, also known as the Variance Ratio Criterion, measures the ratio of between-cluster variance to within-cluster variance. It tends to be higher when clusters are well-separated and compact. A higher value suggests better clustering.\n",
    "\n",
    "</blockquote> "
   ]
  }
 ],
 "metadata": {
  "kernelspec": {
   "display_name": "Python 3 (ipykernel)",
   "language": "python",
   "name": "python3"
  },
  "language_info": {
   "codemirror_mode": {
    "name": "ipython",
    "version": 3
   },
   "file_extension": ".py",
   "mimetype": "text/x-python",
   "name": "python",
   "nbconvert_exporter": "python",
   "pygments_lexer": "ipython3",
   "version": "3.7.10"
  },
  "varInspector": {
   "cols": {
    "lenName": 16,
    "lenType": 16,
    "lenVar": 40
   },
   "kernels_config": {
    "python": {
     "delete_cmd_postfix": "",
     "delete_cmd_prefix": "del ",
     "library": "var_list.py",
     "varRefreshCmd": "print(var_dic_list())"
    },
    "r": {
     "delete_cmd_postfix": ") ",
     "delete_cmd_prefix": "rm(",
     "library": "var_list.r",
     "varRefreshCmd": "cat(var_dic_list()) "
    }
   },
   "types_to_exclude": [
    "module",
    "function",
    "builtin_function_or_method",
    "instance",
    "_Feature"
   ],
   "window_display": false
  }
 },
 "nbformat": 4,
 "nbformat_minor": 2
}
