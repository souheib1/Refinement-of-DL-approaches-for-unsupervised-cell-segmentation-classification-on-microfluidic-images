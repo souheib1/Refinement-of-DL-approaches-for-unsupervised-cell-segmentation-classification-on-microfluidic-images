{
 "cells": [
  {
   "cell_type": "code",
   "execution_count": 8,
   "metadata": {},
   "outputs": [],
   "source": [
    "import numpy as np\n",
    "import torch\n",
    "import torchvision.datasets as datasets\n",
    "from torch.utils.data import DataLoader, random_split\n",
    "import pandas as pd\n",
    "import torchvision\n",
    "from torchvision import transforms\n",
    "import matplotlib.pyplot as plt\n",
    "import seaborn as sns\n",
    "from sklearn.metrics import accuracy_score\n",
    "from sklearn.metrics import silhouette_score, davies_bouldin_score, calinski_harabasz_score\n",
    "from sklearn.mixture import GaussianMixture\n",
    "import warnings\n",
    "warnings.filterwarnings(\"ignore\")\n",
    "np.random.seed(42)\n",
    "sns.set_style('darkgrid')"
   ]
  },
  {
   "cell_type": "code",
   "execution_count": 9,
   "metadata": {},
   "outputs": [],
   "source": [
    "from clustering_utils import umap,tSNE,compute_most_represented_class_per_cluster,substitute_classes_labels\n",
    "from cVAE_architecture import cVAE, loss_vae\n",
    "from cVAE_train_utils import train_cVAE\n",
    "\n",
    "device = 'cuda:1' if torch.cuda.is_available() else 'cpu'\n",
    "batch_size = 128\n",
    "cmap = plt.cm.get_cmap('viridis', 10)"
   ]
  },
  {
   "cell_type": "markdown",
   "metadata": {},
   "source": [
    "## MNIST"
   ]
  },
  {
   "cell_type": "code",
   "execution_count": 10,
   "metadata": {},
   "outputs": [
    {
     "name": "stdout",
     "output_type": "stream",
     "text": [
      "X_train shape: torch.Size([60000, 1, 28, 28])\n",
      "Y_train shape: torch.Size([60000])\n",
      "X_test shape: torch.Size([10000, 1, 28, 28])\n",
      "Y_test shape: torch.Size([10000])\n"
     ]
    }
   ],
   "source": [
    "# Define a transform to preprocess the data\n",
    "transform = transforms.Compose([transforms.ToTensor()])\n",
    "\n",
    "# Load the MNIST dataset\n",
    "train_dataset = torchvision.datasets.MNIST(\n",
    "    root='./mnist_data', train=True, transform=transform, download=True)\n",
    "test_dataset = torchvision.datasets.MNIST(\n",
    "    root='./mnist_data', train=False, transform=transform, download=True)\n",
    "\n",
    "# Create data loaders to handle batch processing\n",
    "batch_size = 128\n",
    "train_loader = torch.utils.data.DataLoader(\n",
    "    dataset=train_dataset, batch_size=batch_size, shuffle=True)\n",
    "test_loader = torch.utils.data.DataLoader(\n",
    "    dataset=test_dataset, batch_size=batch_size, shuffle=False)\n",
    "\n",
    "X_train = []\n",
    "Y_train = []\n",
    "for images, labels in train_loader:\n",
    "    X_train.append(images)\n",
    "    Y_train.append(labels)\n",
    "X_train = torch.cat(X_train, dim=0)\n",
    "Y_train = torch.cat(Y_train, dim=0)\n",
    "\n",
    "X_test = []\n",
    "Y_test = []\n",
    "for images, labels in test_loader:\n",
    "    X_test.append(images)\n",
    "    Y_test.append(labels)\n",
    "X_test = torch.cat(X_test, dim=0)\n",
    "Y_test = torch.cat(Y_test, dim=0)\n",
    "\n",
    "# Print shapes for verification\n",
    "print(\"X_train shape:\", X_train.shape)\n",
    "print(\"Y_train shape:\", Y_train.shape)\n",
    "print(\"X_test shape:\", X_test.shape)\n",
    "print(\"Y_test shape:\", Y_test.shape)"
   ]
  },
  {
   "cell_type": "markdown",
   "metadata": {},
   "source": [
    "beta = 1e-20"
   ]
  },
  {
   "cell_type": "code",
   "execution_count": null,
   "metadata": {},
   "outputs": [],
   "source": [
    "autoencoder_cvae=cVAE(num_labels=10, latent_dim=16,input_size=28)\n",
    "autoencoder_cvae.load_state_dict(torch.load('./models_Mnist/cVAE_Name_zdim_16_beta_0_epochs_20.pth',map_location=torch.device('cpu')))\n",
    "\n",
    "z_test = autoencoder_cvae.encode(X_test,Y_test)\n",
    "z_train = autoencoder_cvae.encode(X_train,Y_train)\n",
    "n_clusters = 10\n",
    "z_test = z_test.detach().numpy()\n",
    "z_train = z_train.detach().numpy()\n",
    "y_test = Y_test.detach().numpy()\n",
    "clustering = GaussianMixture(n_components=n_clusters, covariance_type='full').fit(z_train)\n",
    "clustering_labels = clustering.predict(z_test)\n",
    "tSNE(z_test,clustering_labels=clustering_labels,true_labels=y_test,latent_space=64,data=\"cells\")\n",
    "\n",
    "# Samples from each cluster\n",
    "nb_samples = 9\n",
    "l = list(set(clustering_labels))\n",
    "fig, axes = plt.subplots(n_clusters,nb_samples, figsize=(10,10))\n",
    "for label2 in l:\n",
    "    for sample_index in range(nb_samples):\n",
    "        axes[label2][sample_index].imshow(X_test[np.where(clustering_labels == label2)[0][sample_index]][0], cmap='gray')\n",
    "        #axes[label2][sample_index].set_title(\"label = \"+str(label2))\n",
    "        axes[label2][sample_index].grid(False)\n",
    "        axes[label2][sample_index].axis('off')\n",
    "        #axes[label][sample_index].set_title(f\"Sample {sample_index} for cluster {label}\")\n",
    "\n",
    "plt.show()\n",
    "\n",
    "class_equivalence = compute_most_represented_class_per_cluster(\n",
    "    clustering_labels, y_test)\n",
    "print(\"class_equivalence: \", class_equivalence)\n",
    "y_pred = substitute_classes_labels(clustering_labels, class_equivalence)\n",
    "acc_0 = accuracy_score(y_test, y_pred)\n",
    "\n",
    "s_0 = silhouette_score(z_test, clustering_labels)\n",
    "db_0 = davies_bouldin_score(z_test, clustering_labels)\n",
    "ch_0 = calinski_harabasz_score(z_test, clustering_labels)\n",
    "print(f\"Accuracy: {acc_0}, Silhouette: {s_0:.4f}, DB: {db_0:.4f}, CH: {ch_0:.4f}\")"
   ]
  },
  {
   "cell_type": "markdown",
   "metadata": {},
   "source": [
    "beta = 1e-5"
   ]
  },
  {
   "cell_type": "code",
   "execution_count": null,
   "metadata": {},
   "outputs": [],
   "source": [
    "autoencoder_cvae=cVAE(num_labels=10, latent_dim=16,input_size=28)\n",
    "autoencoder_cvae.load_state_dict(torch.load('./models_Mnist/cVAE_Name_zdim_16_beta_1e-05_epochs_20.pth',map_location=torch.device('cpu')))\n",
    "\n",
    "z_test = autoencoder_cvae.encode(X_test,Y_test)\n",
    "z_train = autoencoder_cvae.encode(X_train,Y_train)\n",
    "n_clusters = 10\n",
    "z_test = z_test.detach().numpy()\n",
    "z_train = z_train.detach().numpy()\n",
    "y_test = Y_test.detach().numpy()\n",
    "clustering = GaussianMixture(n_components=n_clusters, covariance_type='full').fit(z_train)\n",
    "clustering_labels = clustering.predict(z_test)\n",
    "tSNE(z_test,clustering_labels=clustering_labels,true_labels=y_test,latent_space=64,data=\"cells\")\n",
    "\n",
    "# Samples from each cluster\n",
    "nb_samples = 9\n",
    "l = list(set(clustering_labels))\n",
    "fig, axes = plt.subplots(n_clusters,nb_samples, figsize=(10,10))\n",
    "for label2 in l:\n",
    "    for sample_index in range(nb_samples):\n",
    "        axes[label2][sample_index].imshow(X_test[np.where(clustering_labels == label2)[0][sample_index]][0], cmap='gray')\n",
    "        #axes[label2][sample_index].set_title(\"label = \"+str(label2))\n",
    "        axes[label2][sample_index].grid(False)\n",
    "        axes[label2][sample_index].axis('off')\n",
    "        #axes[label][sample_index].set_title(f\"Sample {sample_index} for cluster {label}\")\n",
    "\n",
    "plt.show()\n",
    "\n",
    "class_equivalence = compute_most_represented_class_per_cluster(\n",
    "    clustering_labels, y_test)\n",
    "print(\"class_equivalence: \", class_equivalence)\n",
    "y_pred = substitute_classes_labels(clustering_labels, class_equivalence)\n",
    "acc_000001 = accuracy_score(y_test, y_pred)\n",
    "\n",
    "s_000001 = silhouette_score(z_test, clustering_labels)\n",
    "db_000001 = davies_bouldin_score(z_test, clustering_labels)\n",
    "ch_000001 = calinski_harabasz_score(z_test, clustering_labels)\n",
    "print(f\"Accuracy: {acc_000001}, Silhouette: {s_000001:.4f}, DB: {db_000001:.4f}, CH: {ch_000001:.4f}\")"
   ]
  },
  {
   "cell_type": "markdown",
   "metadata": {},
   "source": [
    "beta = 0.01"
   ]
  },
  {
   "cell_type": "code",
   "execution_count": null,
   "metadata": {},
   "outputs": [],
   "source": [
    "autoencoder_cvae=cVAE(num_labels=10, latent_dim=16,input_size=28)\n",
    "autoencoder_cvae.load_state_dict(torch.load('./models_Mnist/cVAE_Name_zdim_16_beta_0.01_epochs_20.pth',map_location=torch.device('cpu')))\n",
    "\n",
    "z_test = autoencoder_cvae.encode(X_test,Y_test)\n",
    "z_train = autoencoder_cvae.encode(X_train,Y_train)\n",
    "n_clusters = 10\n",
    "z_test = z_test.detach().numpy()\n",
    "z_train = z_train.detach().numpy()\n",
    "y_test = Y_test.detach().numpy()\n",
    "clustering = GaussianMixture(n_components=n_clusters, covariance_type='full').fit(z_train)\n",
    "clustering_labels = clustering.predict(z_test)\n",
    "tSNE(z_test,clustering_labels=clustering_labels,true_labels=y_test,latent_space=64,data=\"cells\")\n",
    "\n",
    "# Samples from each cluster\n",
    "nb_samples = 9\n",
    "l = list(set(clustering_labels))\n",
    "fig, axes = plt.subplots(n_clusters,nb_samples, figsize=(10,10))\n",
    "for label2 in l:\n",
    "    for sample_index in range(nb_samples):\n",
    "        axes[label2][sample_index].imshow(X_test[np.where(clustering_labels == label2)[0][sample_index]][0], cmap='gray')\n",
    "        #axes[label2][sample_index].set_title(\"label = \"+str(label2))\n",
    "        axes[label2][sample_index].grid(False)\n",
    "        axes[label2][sample_index].axis('off')\n",
    "        #axes[label][sample_index].set_title(f\"Sample {sample_index} for cluster {label}\")\n",
    "\n",
    "plt.show()\n",
    "class_equivalence = compute_most_represented_class_per_cluster(\n",
    "    clustering_labels, y_test)\n",
    "print(\"class_equivalence: \", class_equivalence)\n",
    "y_pred = substitute_classes_labels(clustering_labels, class_equivalence)\n",
    "acc_001 = accuracy_score(y_test, y_pred)\n",
    "\n",
    "s_001 = silhouette_score(z_test, clustering_labels)\n",
    "db_001 = davies_bouldin_score(z_test, clustering_labels)\n",
    "ch_001 = calinski_harabasz_score(z_test, clustering_labels)\n",
    "print(f\"Accuracy: {acc_001}, Silhouette: {s_001:.4f}, DB: {db_001:.4f}, CH: {ch_001:.4f}\")"
   ]
  },
  {
   "cell_type": "markdown",
   "metadata": {},
   "source": [
    "beta = 1\n",
    "\n"
   ]
  },
  {
   "cell_type": "code",
   "execution_count": null,
   "metadata": {},
   "outputs": [],
   "source": [
    "\n",
    "autoencoder_cvae=cVAE(num_labels=10, latent_dim=16,input_size=28)\n",
    "autoencoder_cvae.load_state_dict(torch.load('./models_Mnist/cVAE_Name_zdim_16_beta_1_epochs_20.pth',map_location=torch.device('cpu')))\n",
    "\n",
    "\n",
    "z_test = autoencoder_cvae.encode(X_test,Y_test)\n",
    "z_train = autoencoder_cvae.encode(X_train,Y_train)\n",
    "n_clusters = 10\n",
    "z_test = z_test.detach().numpy()\n",
    "z_train = z_train.detach().numpy()\n",
    "y_test = Y_test.detach().numpy()\n",
    "clustering = GaussianMixture(n_components=n_clusters, covariance_type='full').fit(z_train)\n",
    "clustering_labels = clustering.predict(z_test)\n",
    "\n",
    "tSNE(z_test,clustering_labels=clustering_labels,true_labels=y_test,latent_space=64,data=\"cells\")\n",
    "# Samples from each cluster\n",
    "nb_samples = 9\n",
    "l = list(set(clustering_labels))\n",
    "fig, axes = plt.subplots(n_clusters,nb_samples, figsize=(10,10))\n",
    "for label2 in l:\n",
    "    for sample_index in range(nb_samples):\n",
    "        axes[label2][sample_index].imshow(X_test[np.where(clustering_labels == label2)[0][sample_index]][0], cmap='gray')\n",
    "        #axes[label2][sample_index].set_title(\"label = \"+str(label2))\n",
    "        axes[label2][sample_index].grid(False)\n",
    "        axes[label2][sample_index].axis('off')\n",
    "        #axes[label][sample_index].set_title(f\"Sample {sample_index} for cluster {label}\")\n",
    "\n",
    "plt.show()\n",
    "\n",
    "class_equivalence = compute_most_represented_class_per_cluster(\n",
    "    clustering_labels, y_test)\n",
    "print(\"class_equivalence: \", class_equivalence)\n",
    "y_pred = substitute_classes_labels(clustering_labels, class_equivalence)\n",
    "acc_1 = accuracy_score(y_test, y_pred)\n",
    "\n",
    "s_1 = silhouette_score(z_test, clustering_labels)\n",
    "db_1 = davies_bouldin_score(z_test, clustering_labels)\n",
    "ch_1 = calinski_harabasz_score(z_test, clustering_labels)\n",
    "print(f\"Accuracy: {acc_1}, Silhouette: {s_1:.4f}, DB: {db_1:.4f}, CH: {ch_1:.4f}\")"
   ]
  },
  {
   "cell_type": "markdown",
   "metadata": {},
   "source": [
    "beta = 100"
   ]
  },
  {
   "cell_type": "code",
   "execution_count": null,
   "metadata": {},
   "outputs": [],
   "source": [
    "autoencoder_cvae=cVAE(num_labels=10, latent_dim=16,input_size=28)\n",
    "autoencoder_cvae.load_state_dict(torch.load('./models_Mnist/cVAE_Name_zdim_16_beta_100.0_epochs_20.pth',map_location=torch.device('cpu')))\n",
    "\n",
    "z_test = autoencoder_cvae.encode(X_test,Y_test)\n",
    "z_train = autoencoder_cvae.encode(X_train,Y_train)\n",
    "n_clusters = 10\n",
    "z_test = z_test.detach().numpy()\n",
    "z_train = z_train.detach().numpy()\n",
    "y_test = Y_test.detach().numpy()\n",
    "clustering = GaussianMixture(n_components=n_clusters, covariance_type='full').fit(z_train)\n",
    "clustering_labels = clustering.predict(z_test)\n",
    "tSNE(z_test,clustering_labels=clustering_labels,true_labels=y_test,latent_space=64,data=\"cells\")\n",
    "\n",
    "# Samples from each cluster\n",
    "nb_samples = 9\n",
    "l = list(set(clustering_labels))\n",
    "fig, axes = plt.subplots(n_clusters,nb_samples, figsize=(10,10))\n",
    "for label2 in l:\n",
    "    for sample_index in range(nb_samples):\n",
    "        axes[label2][sample_index].imshow(X_test[np.where(clustering_labels == label2)[0][sample_index]][0], cmap='gray')\n",
    "        #axes[label2][sample_index].set_title(\"label = \"+str(label2))\n",
    "        axes[label2][sample_index].grid(False)\n",
    "        axes[label2][sample_index].axis('off')\n",
    "        #axes[label][sample_index].set_title(f\"Sample {sample_index} for cluster {label}\")\n",
    "\n",
    "plt.show()\n",
    "class_equivalence = compute_most_represented_class_per_cluster(\n",
    "    clustering_labels, y_test)\n",
    "print(\"class_equivalence: \", class_equivalence)\n",
    "y_pred = substitute_classes_labels(clustering_labels, class_equivalence)\n",
    "acc_100 = accuracy_score(y_test, y_pred)\n",
    "\n",
    "s_100 = silhouette_score(z_test, clustering_labels)\n",
    "db_100 = davies_bouldin_score(z_test, clustering_labels)\n",
    "ch_100 = calinski_harabasz_score(z_test, clustering_labels)\n",
    "print(f\"Accuracy: {acc_100}, Silhouette: {s_100:.4f}, DB: {db_100:.4f}, CH: {ch_100:.4f}\")"
   ]
  },
  {
   "cell_type": "markdown",
   "metadata": {},
   "source": [
    "beta = 1e5"
   ]
  },
  {
   "cell_type": "code",
   "execution_count": null,
   "metadata": {},
   "outputs": [],
   "source": [
    "autoencoder_cvae=cVAE(num_labels=10, latent_dim=16,input_size=28)\n",
    "autoencoder_cvae.load_state_dict(torch.load('./models_Mnist/cVAE_Name_zdim_16_beta_100000.0_epochs_20.pth',map_location=torch.device('cpu')))\n",
    "\n",
    "\n",
    "z_test = autoencoder_cvae.encode(X_test,Y_test)\n",
    "z_train = autoencoder_cvae.encode(X_train,Y_train)\n",
    "n_clusters = 10\n",
    "z_test = z_test.detach().numpy()\n",
    "z_train = z_train.detach().numpy()\n",
    "y_test = Y_test.detach().numpy()\n",
    "clustering = GaussianMixture(n_components=n_clusters, covariance_type='full').fit(z_train)\n",
    "clustering_labels = clustering.predict(z_test)\n",
    "tSNE(z_test,clustering_labels=clustering_labels,true_labels=y_test,latent_space=64,data=\"cells\")\n",
    "\n",
    "\n",
    "# Samples from each cluster\n",
    "nb_samples = 9\n",
    "l = list(set(clustering_labels))\n",
    "fig, axes = plt.subplots(n_clusters,nb_samples, figsize=(10,10))\n",
    "for label2 in l:\n",
    "    for sample_index in range(nb_samples):\n",
    "        axes[label2][sample_index].imshow(X_test[np.where(clustering_labels == label2)[0][sample_index]][0], cmap='gray')\n",
    "        #axes[label2][sample_index].set_title(\"label = \"+str(label2))\n",
    "        axes[label2][sample_index].grid(False)\n",
    "        axes[label2][sample_index].axis('off')\n",
    "        #axes[label][sample_index].set_title(f\"Sample {sample_index} for cluster {label}\")\n",
    "\n",
    "plt.show()\n",
    "\n",
    "class_equivalence = compute_most_represented_class_per_cluster(\n",
    "    clustering_labels, y_test)\n",
    "print(\"class_equivalence: \", class_equivalence)\n",
    "y_pred = substitute_classes_labels(clustering_labels, class_equivalence)\n",
    "acc_100000 = accuracy_score(y_test, y_pred)\n",
    "\n",
    "s_100000 = silhouette_score(z_test, clustering_labels)\n",
    "db_100000 = davies_bouldin_score(z_test, clustering_labels)\n",
    "ch_100000 = calinski_harabasz_score(z_test, clustering_labels)\n",
    "print(f\"Accuracy: {acc_100000}, Silhouette: {s_100000:.4f}, DB: {db_100000:.4f}, CH: {ch_100000:.4f}\")"
   ]
  },
  {
   "cell_type": "markdown",
   "metadata": {},
   "source": [
    "beta = 1e9"
   ]
  },
  {
   "cell_type": "code",
   "execution_count": null,
   "metadata": {},
   "outputs": [],
   "source": [
    "autoencoder_cvae=cVAE(num_labels=10, latent_dim=16,input_size=28)\n",
    "autoencoder_cvae.load_state_dict(torch.load('./models_Mnist/cVAE_Name_zdim_16_beta_10000000000.0_epochs_20.pth',map_location=torch.device('cpu')))\n",
    "\n",
    "\n",
    "z_test = autoencoder_cvae.encode(X_test,Y_test)\n",
    "z_train = autoencoder_cvae.encode(X_train,Y_train)\n",
    "n_clusters = 10\n",
    "z_test = z_test.detach().numpy()\n",
    "z_train = z_train.detach().numpy()\n",
    "y_test = Y_test.detach().numpy()\n",
    "clustering = GaussianMixture(n_components=n_clusters, covariance_type='full').fit(z_train)\n",
    "clustering_labels = clustering.predict(z_test)\n",
    "tSNE(z_test,clustering_labels=clustering_labels,true_labels=y_test,latent_space=64,data=\"cells\")\n",
    "\n",
    "\n",
    "# Samples from each cluster\n",
    "nb_samples = 9\n",
    "l = list(set(clustering_labels))\n",
    "fig, axes = plt.subplots(n_clusters,nb_samples, figsize=(10,10))\n",
    "for label2 in l:\n",
    "    for sample_index in range(nb_samples):\n",
    "        axes[label2][sample_index].imshow(X_test[np.where(clustering_labels == label2)[0][sample_index]][0], cmap='gray')\n",
    "        #axes[label2][sample_index].set_title(\"label = \"+str(label2))\n",
    "        axes[label2][sample_index].grid(False)\n",
    "        axes[label2][sample_index].axis('off')\n",
    "        #axes[label][sample_index].set_title(f\"Sample {sample_index} for cluster {label}\")\n",
    "\n",
    "plt.show()\n",
    "\n",
    "class_equivalence = compute_most_represented_class_per_cluster(\n",
    "    clustering_labels, y_test)\n",
    "print(\"class_equivalence: \", class_equivalence)\n",
    "y_pred = substitute_classes_labels(clustering_labels, class_equivalence)\n",
    "acc_e9 = accuracy_score(y_test, y_pred)\n",
    "\n",
    "s_e9 = silhouette_score(z_test, clustering_labels)\n",
    "db_e9 = davies_bouldin_score(z_test, clustering_labels)\n",
    "ch_e9 = calinski_harabasz_score(z_test, clustering_labels)\n",
    "print(f\"Accuracy: {acc_e9}, Silhouette: {s_e9:.4f}, DB: {db_e9:.4f}, CH: {ch_e9:.4f}\")"
   ]
  },
  {
   "cell_type": "code",
   "execution_count": 34,
   "metadata": {},
   "outputs": [
    {
     "name": "stdout",
     "output_type": "stream",
     "text": [
      " \n",
      "|       beta |   Accuracy |   Silhouette |      DB |      CH |\n",
      "|-----------:|-----------:|-------------:|--------:|--------:|\n",
      "|      1e-20 |     0.8317 |    0.133296  | 2.1815  | 714     |\n",
      "|      1e-05 |     1      |    0.170485  | 1.96544 | 721.06  |\n",
      "|      0.1   |     0.902  |    0.118167  | 3.01326 | 426.287 |\n",
      "|      1     |     0.9108 |    0.101669  | 3.21399 | 398.364 |\n",
      "|    100     |     0.9026 |    0.101368  | 3.05179 | 397.746 |\n",
      "| 100000     |     0.8991 |    0.103771  | 3.07838 | 407.938 |\n",
      "|      1e+09 |     0.8126 |    0.0847798 | 3.76288 | 345.021 |\n"
     ]
    }
   ],
   "source": [
    "print(\" \")\n",
    "\n",
    "data = {'beta': ['1e-20','1e-5', '00.1', '1', '100','1e5','1e9'],\n",
    "        'Accuracy': [acc_0, acc_000001, acc_001, acc_1, acc_100, acc_100000, acc_e9],\n",
    "        \n",
    "        'Silhouette': [s_0, s_000001, s_001, s_1, s_100, s_100000, s_e9],\n",
    "        \n",
    "        'DB': [db_0, db_000001, db_001, db_1, db_100, db_100000, db_e9],\n",
    "\n",
    "        'CH': [ch_0, ch_000001, ch_001, ch_1, ch_100, ch_100000, ch_e9]}\n",
    "\n",
    "df = pd.DataFrame(data)\n",
    "\n",
    "print(df.to_markdown(index=False))"
   ]
  },
  {
   "cell_type": "code",
   "execution_count": 33,
   "metadata": {},
   "outputs": [
    {
     "data": {
      "image/png": "[encoded data removed]",
      "text/plain": [
       "<Figure size 720x432 with 2 Axes>"
      ]
     },
     "metadata": {},
     "output_type": "display_data"
    }
   ],
   "source": [
    "beta_values = [1e-20,1e-5, 0.01, 1, 100,1e5,1e9]\n",
    "acc_scores = [acc_0, acc_000001, acc_001, acc_1, acc_100, acc_100000, acc_e9]\n",
    "s_scores = [s_0, s_000001, s_001, s_1, s_100, s_100000, s_e9]\n",
    "db_scores = [db_0, db_000001, db_001, db_1, db_100, db_100000, db_e9]\n",
    "ch_scores = [ch_0, ch_000001, ch_001, ch_1, ch_100, ch_100000, ch_e9]\n",
    "\n",
    "# Create plots\n",
    "fig, ax1 = plt.subplots(figsize=(10, 6))\n",
    "\n",
    "# Accuracy Score (Plotted first)\n",
    "ax1.plot(beta_values, acc_scores, label='Accuracy', marker='o', color='r', linestyle='--')\n",
    "ax1.set_xscale('log')  # Set x-axis to logarithmic scale\n",
    "ax1.set_xlabel('Log Beta Parameter')\n",
    "ax1.set_ylabel('Accuracy')\n",
    "ax1.set_ylim(min(acc_scores) - 0.1, max(acc_scores) + 0.1)\n",
    "ax1.grid(False)\n",
    "ax1.legend()\n",
    "\n",
    "# Silhouette Score\n",
    "ax2 = ax1.twinx()\n",
    "ax2.plot(beta_values, s_scores, label='Silhouette Score', marker='s', color='g', linestyle='-.')\n",
    "ax2.set_ylabel('Silhouette Score', color='g')\n",
    "ax2.set_ylim(min(s_scores) - 0.1, max(s_scores) + 0.1)\n",
    "\n",
    "# # DB Score\n",
    "# ax3 = ax1.twinx()\n",
    "# ax3.plot(beta_values, db_scores, label='DB Score', marker='^', color='y', linestyle='--')\n",
    "# ax3.set_ylabel('DB Score', color='r')\n",
    "# ax3.set_ylim(min(db_scores) - 0.4, max(db_scores) + 0.4)\n",
    "\n",
    "# # CH Score\n",
    "# ax4 = ax1.twinx()\n",
    "# ax4.plot(beta_values, ch_scores, label='CH Score', marker='D', color='b', linestyle=':')\n",
    "# ax4.set_ylabel('CH Score', color='b')\n",
    "# ax4.set_ylim(min(ch_scores) - 40, max(ch_scores) + 40)\n",
    "\n",
    "# Adjust y-axis positions for the second, third, and fourth y-axes\n",
    "ax2.spines['right'].set_position(('outward', 60))\n",
    "ax2.spines['right'].set_color('g')\n",
    "\n",
    "# Combine legends\n",
    "lines1, labels1 = ax1.get_legend_handles_labels()\n",
    "lines2, labels2 = ax2.get_legend_handles_labels()\n",
    "\n",
    "lines = lines1 + lines2 \n",
    "labels = (labels1,labels2)\n",
    "ax1.legend(lines, labels, loc='best')\n",
    "\n",
    "plt.title('Scores vs. Log Beta Parameter')\n",
    "plt.show()"
   ]
  },
  {
   "cell_type": "code",
   "execution_count": null,
   "metadata": {},
   "outputs": [],
   "source": []
  },
  {
   "cell_type": "code",
   "execution_count": null,
   "metadata": {},
   "outputs": [],
   "source": []
  }
 ],
 "metadata": {
  "kernelspec": {
   "display_name": "Python 3 (ipykernel)",
   "language": "python",
   "name": "python3"
  },
  "language_info": {
   "codemirror_mode": {
    "name": "ipython",
    "version": 3
   },
   "file_extension": ".py",
   "mimetype": "text/x-python",
   "name": "python",
   "nbconvert_exporter": "python",
   "pygments_lexer": "ipython3",
   "version": "3.7.10"
  },
  "varInspector": {
   "cols": {
    "lenName": 16,
    "lenType": 16,
    "lenVar": 40
   },
   "kernels_config": {
    "python": {
     "delete_cmd_postfix": "",
     "delete_cmd_prefix": "del ",
     "library": "var_list.py",
     "varRefreshCmd": "print(var_dic_list())"
    },
    "r": {
     "delete_cmd_postfix": ") ",
     "delete_cmd_prefix": "rm(",
     "library": "var_list.r",
     "varRefreshCmd": "cat(var_dic_list()) "
    }
   },
   "types_to_exclude": [
    "module",
    "function",
    "builtin_function_or_method",
    "instance",
    "_Feature"
   ],
   "window_display": false
  }
 },
 "nbformat": 4,
 "nbformat_minor": 2
}
