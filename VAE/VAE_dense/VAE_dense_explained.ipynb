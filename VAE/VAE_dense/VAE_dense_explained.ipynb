{
 "cells": [
  {
   "cell_type": "markdown",
   "metadata": {},
   "source": [
    "<center> <h1> Variational Autoencoder using Pytorch </h1> </center>"
   ]
  },
  {
   "cell_type": "markdown",
   "metadata": {},
   "source": [
    "## Introduction"
   ]
  },
  {
   "cell_type": "code",
   "execution_count": 9,
   "metadata": {},
   "outputs": [],
   "source": [
    "import torch\n",
    "import torch.nn.functional as F\n",
    "import torch.nn as nn\n",
    "import torch.optim as optim\n",
    "import matplotlib.pyplot as plt\n",
    "import os\n",
    "from torchvision import transforms\n",
    "from torchvision.datasets import ImageFolder\n",
    "from torch.utils.data import DataLoader\n",
    "import numpy as np\n",
    "from image_utils import load_images_from_path"
   ]
  },
  {
   "cell_type": "code",
   "execution_count": 10,
   "metadata": {},
   "outputs": [],
   "source": [
    "input_shape = (190,105)"
   ]
  },
  {
   "cell_type": "markdown",
   "metadata": {},
   "source": [
    "## 1. Sampling"
   ]
  },
  {
   "cell_type": "markdown",
   "metadata": {},
   "source": [
    "We implement the sampling class in order to use the reparameterization trick. In fact, this trick is used in VAEs to sample from the posterior distribution of the latent space variables (z) given the inputs (z_mean, z_log_var) while keeping the sampling process differentiable, enabling backpropagation and gradient-based optimization.\n",
    "\n",
    "The principle is to transform the random samples from a standard normal distribution $ \\sim \\mathcal{N}(0,\\,1)$ using the following equation:\n",
    "        \n",
    "Reparameterization Trick:\n",
    "\n",
    "$$ z = z_{\\text{mean}} + \\exp\\left(\\frac{1}{2} z_{\\text{log\\_var}}\\right) \\cdot \\epsilon $$\n",
    "\n",
    "where $ \\epsilon $ is a random sample from the standard normal distribution $\\sim \\mathcal{N}(0,\\,1)$."
   ]
  },
  {
   "cell_type": "code",
   "execution_count": 11,
   "metadata": {},
   "outputs": [],
   "source": [
    "class Sampling(nn.Module):\n",
    "    \"\"\"\n",
    "    Implementation of the reparameterization trick (to make the sampling process differentiable) used in VAEs to sample from the\n",
    "    posterior distribution of the latent space variables (z) given the inputs (z_mean, z_log_var).\n",
    "\n",
    "    Parameters:\n",
    "        inputs (tuple): A tuple containing two tensors : z_mean and z_log_var.\n",
    "\n",
    "    Returns:\n",
    "        torch.Tensor: A tensor containing the reparameterized latent variables z.\n",
    "                      The shape of the output tensor is the same as z_mean and z_log_var.\n",
    "    \"\"\"\n",
    "\n",
    "    def forward(self, inputs):\n",
    "        z_mean, z_log_var = inputs\n",
    "        batch = z_mean.shape[0]\n",
    "        dim = z_mean.shape[1]\n",
    "        # generates random samples from a standard normal distribution \n",
    "        epsilon = torch.randn(batch, dim, device=z_mean.device)\n",
    "        #The reparameterization trick\n",
    "        return z_mean + torch.exp(0.5 * z_log_var) * epsilon "
   ]
  },
  {
   "cell_type": "markdown",
   "metadata": {},
   "source": [
    "## 2. Encoder"
   ]
  },
  {
   "cell_type": "markdown",
   "metadata": {},
   "source": [
    "The encoder is a neural network used to map input images of the crops to a triplet (z_mean, z_log_var, z) in the context of a Variational Autoencoder (VAE) architecture. \n",
    "\n",
    " The Encoder takes input image crops and processes them through a series of fully connected layers with ReLU activations to compress the input into a compact representation in the latent space. The architecture consists of three hidden layers with decreasing dimensions, followed by two output layers for the mean and log variance of the latent space distribution. \n",
    "\n",
    "**PS: Idea of using dense layers instead of conv layers**"
   ]
  },
  {
   "cell_type": "code",
   "execution_count": 12,
   "metadata": {},
   "outputs": [],
   "source": [
    "class Encoder(nn.Module):\n",
    "    \"\"\"\n",
    "    Encoder neural network that maps input image crops to a triplet (z_mean, z_log_var, z).\n",
    "    \"\"\"\n",
    "\n",
    "    def __init__(self, n_rows=190 ,n_cols=105 ,n_channels=1, h_dim3 = 32, h_dim2 = 64, h_dim1 = 128, latent_dim=32):\n",
    "        super(Encoder, self).__init__()\n",
    "        \n",
    "        self.n_rows = n_rows\n",
    "        self.n_cols = n_cols\n",
    "        self.n_channels = n_channels\n",
    "        self.latent_dim = latent_dim\n",
    "        \n",
    "        self.flatten = nn.Flatten()\n",
    "        self.dense = nn.Linear(n_channels * n_rows * n_cols, h_dim1)\n",
    "        self.fc1 = nn.Linear(h_dim1, h_dim2)\n",
    "        self.fc2 = nn.Linear(h_dim2, h_dim3)\n",
    "        \n",
    "        self.dense_mean = nn.Linear(h_dim3, self.latent_dim)\n",
    "        self.dense_log_var = nn.Linear(h_dim3, self.latent_dim)\n",
    "        self.sampling = Sampling()\n",
    "\n",
    "    def forward(self, inputs):\n",
    "        x = self.flatten(inputs)\n",
    "        x = F.relu(self.dense(x))\n",
    "        x = F.relu(self.fc1(x))\n",
    "        x = F.relu(self.fc2(x))\n",
    "        z_mean = self.dense_mean(x)\n",
    "        z_log_var = self.dense_log_var(x)\n",
    "        z = self.sampling((z_mean, z_log_var))\n",
    "        return z_mean, z_log_var, z"
   ]
  },
  {
   "cell_type": "markdown",
   "metadata": {},
   "source": [
    "## 3. Decoder"
   ]
  },
  {
   "cell_type": "markdown",
   "metadata": {},
   "source": [
    " The decoder architecture maps the latent variables to the original image space by sequentially transforming and upsampling the latent representation through fully connected layers, followed by a final Sigmoid activation to generate the reconstructed image in the original format."
   ]
  },
  {
   "cell_type": "code",
   "execution_count": 13,
   "metadata": {},
   "outputs": [],
   "source": [
    "class Decoder(nn.Module):\n",
    "    \"\"\"\n",
    "    Decoder neural network that maps latent variables (z) back to the original image space.\n",
    "    \"\"\"\n",
    "\n",
    "    def __init__(self, n_rows=190 ,n_cols=105 ,n_channels=1, h_dim3 = 32, h_dim2 = 64, h_dim1 = 128, latent_dim=32):\n",
    "        super(Decoder, self).__init__()\n",
    "\n",
    "        self.latent_dim = latent_dim\n",
    "        self.n_rows = n_rows\n",
    "        self.n_cols = n_cols\n",
    "        self.n_channels = n_channels\n",
    "        self.n_pixels = n_rows * n_cols\n",
    "  \n",
    "        \n",
    "\n",
    "        # Decoder layers\n",
    "        self.dense = nn.Linear(self.latent_dim, h_dim3)\n",
    "        self.fc1 = nn.Linear(h_dim3, h_dim2)\n",
    "        self.fc2 = nn.Linear(h_dim2, h_dim1)\n",
    "        self.fc3 = nn.Linear(h_dim1, n_channels * n_rows * n_cols)\n",
    "        \n",
    "\n",
    "    def forward(self, z):\n",
    "        x = F.relu(self.dense(z))\n",
    "        x = F.relu(self.fc1(x))\n",
    "        x = F.relu(self.fc2(x))\n",
    "        x = F.sigmoid(self.fc3(x))\n",
    "        return x.view(-1, self.n_channels, self.n_rows, self.n_cols)\n"
   ]
  },
  {
   "cell_type": "markdown",
   "metadata": {},
   "source": [
    "## 4. The VAE\n"
   ]
  },
  {
   "cell_type": "code",
   "execution_count": 14,
   "metadata": {},
   "outputs": [],
   "source": [
    "class BetaVAE(nn.Module):\n",
    "\n",
    "    def __init__(self, beta = 1.0, n_rows=190 ,n_cols=105 ,n_channels=1, h_dim3 = 32, h_dim2 = 64, h_dim1 = 128, latent_dim=32):\n",
    "        super(BetaVAE, self).__init__()\n",
    "\n",
    "        self.encoder = Encoder(n_rows, n_cols, n_channels, h_dim3, h_dim2, h_dim1, latent_dim)\n",
    "        self.sampling = Sampling()\n",
    "        self.decoder = Decoder(n_rows, n_cols, n_channels, h_dim3, h_dim2, h_dim1, latent_dim)\n",
    "        self.beta = beta\n",
    "\n",
    "    def forward(self, inputs):\n",
    "        z_mean, z_log_var, z = self.encoder(inputs)\n",
    "        reconstructed_image = self.decoder(z)\n",
    "        return reconstructed_image,z_mean,z_log_var\n",
    "\n",
    "    def loss_function(self, reconstructed, original, z_mean, z_log_var):\n",
    "\n",
    "        # Reconstruction loss (pixel-wise mean squared error)\n",
    "        reconstruction_loss = F.mse_loss(reconstructed, original, reduction='sum')\n",
    "\n",
    "        # KL-divergence loss\n",
    "        kl_divergence_loss = -0.5 * torch.sum(1 + z_log_var - z_mean.pow(2) - z_log_var.exp())\n",
    "\n",
    "        # Total loss\n",
    "        total_loss = reconstruction_loss + self.beta * kl_divergence_loss\n",
    "\n",
    "        return total_loss, reconstruction_loss, kl_divergence_loss"
   ]
  },
  {
   "cell_type": "code",
   "execution_count": 15,
   "metadata": {},
   "outputs": [],
   "source": [
    "def train_VAE(crops, n_rows=190, n_cols=105, latent_dim=8, beta=1, epochs=20, batch_size=32,\n",
    "                  learning_rate=1e-3, validation_split=0.2, plot_history=True,\n",
    "                  save_model=True, saving_path='./newmodel'):\n",
    "\n",
    "\n",
    "    def __plot_history(history):\n",
    "        plt.figure(figsize=(10, 5))\n",
    "        plt.plot(history['loss'], label='Train Loss')\n",
    "        plt.plot(history['val_loss'], label='Validation Loss')\n",
    "        plt.xlabel('Epoch')\n",
    "        plt.ylabel('Loss')\n",
    "        plt.legend()\n",
    "        # model_name = \"model_zdim_\" + str(latent_dim)+\"_beta_\"+ str(beta)+\"_epochs_\"+str(epochs)\n",
    "        # plt.savefig('./models/loss_'+model_name+'.png')\n",
    "        plt.show()\n",
    "        \n",
    "\n",
    "    # Convert the crops to a PyTorch tensor\n",
    "    crops = torch.tensor(crops)\n",
    "\n",
    "    # Create an instance of the BetaVAE model\n",
    "    vae = BetaVAE(beta=beta, latent_dim=latent_dim)\n",
    "\n",
    "    # Define the optimizer\n",
    "    optimizer = optim.Adam(vae.parameters(), lr=learning_rate)\n",
    "\n",
    "    # Lists to store loss history for plotting\n",
    "    train_loss_history = []\n",
    "    val_loss_history = []\n",
    "\n",
    "    # Split the data into training and validation sets\n",
    "    split_idx = int((1 - validation_split) * len(crops))\n",
    "    # Shuffle the data before splitting it\n",
    "    size_dim_0 = crops.size(0)\n",
    "    shuffled_indices_dim_0 = torch.randperm(size_dim_0)\n",
    "    crops = crops[shuffled_indices_dim_0, ...]\n",
    "    train_data = crops[:split_idx]\n",
    "    val_data = crops[split_idx:]\n",
    "    print(\"the training data has \",train_data.size(dim=0), \" patches\")\n",
    "    print(\"the validation data has \",val_data.size(dim=0), \" patches\")\n",
    "\n",
    "    # Training loop\n",
    "    for epoch in range(epochs):\n",
    "        vae.train()\n",
    "        \n",
    "         # Shuffle the training data\n",
    "        dim_0 = train_data.size(0)\n",
    "        shuffled_indices_dim_0 = torch.randperm(dim_0)\n",
    "        train_data = train_data[shuffled_indices_dim_0, ...]\n",
    "        \n",
    "        total_train_loss = 0\n",
    "\n",
    "        for i in range(0, len(train_data), batch_size):\n",
    "            batch = train_data[i:i+batch_size]\n",
    "            optimizer.zero_grad()\n",
    "            reconstructed,z_mean,z_log_var = vae(batch)\n",
    "            loss, reconstruction_loss, kl_divergence_loss = vae.loss_function(\n",
    "                reconstructed, batch, z_mean, z_log_var\n",
    "            )\n",
    "            loss.backward()\n",
    "            optimizer.step()\n",
    "            total_train_loss += loss.item()\n",
    "\n",
    "        avg_train_loss = total_train_loss / len(train_data)\n",
    "        train_loss_history.append(avg_train_loss)\n",
    "\n",
    "        # Validation\n",
    "        vae.eval()\n",
    "        with torch.no_grad():\n",
    "            total_val_loss = 0\n",
    "\n",
    "            for i in range(0, len(val_data), batch_size):\n",
    "                batch = val_data[i:i+batch_size]\n",
    "                reconstructed, z_mean, z_log_var = vae(batch)\n",
    "                loss, _, _ = vae.loss_function(reconstructed, batch, z_mean, z_log_var)\n",
    "                total_val_loss += loss.item()\n",
    "\n",
    "            avg_val_loss = total_val_loss / len(val_data)\n",
    "            val_loss_history.append(avg_val_loss)\n",
    "\n",
    "        print(f\"Epoch [{epoch+1}/{epochs}] - Train Loss: {avg_train_loss:.4f} - Val Loss: {avg_val_loss:.4f}\")\n",
    "\n",
    "    if plot_history:\n",
    "        history = {'loss': train_loss_history, 'val_loss': val_loss_history}\n",
    "        __plot_history(history)\n",
    "\n",
    "    if save_model:\n",
    "        torch.save(vae.state_dict(), saving_path)\n",
    "\n",
    "    return vae"
   ]
  },
  {
   "cell_type": "code",
   "execution_count": 16,
   "metadata": {},
   "outputs": [
    {
     "name": "stdout",
     "output_type": "stream",
     "text": [
      "the training data has  5849  patches\n",
      "the validation data has  1463  patches\n",
      "Epoch [1/25] - Train Loss: 554.4177 - Val Loss: 156.4824\n",
      "Epoch [2/25] - Train Loss: 150.5002 - Val Loss: 134.1554\n",
      "Epoch [3/25] - Train Loss: 129.0175 - Val Loss: 114.5244\n",
      "Epoch [4/25] - Train Loss: 117.4513 - Val Loss: 108.3104\n",
      "Epoch [5/25] - Train Loss: 112.9841 - Val Loss: 105.1679\n",
      "Epoch [6/25] - Train Loss: 110.2914 - Val Loss: 102.9130\n",
      "Epoch [7/25] - Train Loss: 108.0615 - Val Loss: 101.9911\n",
      "Epoch [8/25] - Train Loss: 106.4609 - Val Loss: 100.9605\n",
      "Epoch [9/25] - Train Loss: 105.1266 - Val Loss: 100.3471\n",
      "Epoch [10/25] - Train Loss: 104.1163 - Val Loss: 97.7357\n",
      "Epoch [11/25] - Train Loss: 102.8283 - Val Loss: 97.1675\n",
      "Epoch [12/25] - Train Loss: 102.3020 - Val Loss: 97.2780\n",
      "Epoch [13/25] - Train Loss: 101.2529 - Val Loss: 95.5602\n",
      "Epoch [14/25] - Train Loss: 100.6333 - Val Loss: 96.5246\n",
      "Epoch [15/25] - Train Loss: 100.0476 - Val Loss: 94.1845\n",
      "Epoch [16/25] - Train Loss: 99.2792 - Val Loss: 94.3981\n",
      "Epoch [17/25] - Train Loss: 98.6946 - Val Loss: 94.0717\n",
      "Epoch [18/25] - Train Loss: 97.9471 - Val Loss: 92.5544\n",
      "Epoch [19/25] - Train Loss: 97.4280 - Val Loss: 92.2740\n",
      "Epoch [20/25] - Train Loss: 97.3501 - Val Loss: 92.8007\n",
      "Epoch [21/25] - Train Loss: 96.7635 - Val Loss: 92.0721\n",
      "Epoch [22/25] - Train Loss: 96.5682 - Val Loss: 91.4076\n",
      "Epoch [23/25] - Train Loss: 96.2711 - Val Loss: 91.3840\n",
      "Epoch [24/25] - Train Loss: 95.9680 - Val Loss: 91.2470\n",
      "Epoch [25/25] - Train Loss: 95.8540 - Val Loss: 91.3592\n"
     ]
    },
    {
     "data": {
      "image/png": "[encoded data removed]",
      "text/plain": [
       "<Figure size 720x360 with 1 Axes>"
      ]
     },
     "metadata": {
      "needs_background": "light"
     },
     "output_type": "display_data"
    }
   ],
   "source": [
    "data_path = '../segmentation/data_for_VAE/220429_ MCF10A  laminAC fibro phallo pattern mars 2022\\*.png'\n",
    "_,crops = load_images_from_path(data_path)\n",
    "crops = np.expand_dims(crops, axis=1).astype(\"float32\") / 255\n",
    "batch_size = 32  # You can adjust this based on your hardware and memory limitations\n",
    "latent_dim = 8\n",
    "beta = 1\n",
    "epochs = 25\n",
    "model_name = \"model_zdim_\" + str(latent_dim)+\"_beta_\"+ str(beta)+\"_epochs_\"+str(epochs)\n",
    "trained_vae = train_VAE(crops, n_rows=190, n_cols=105, latent_dim=latent_dim, beta=beta, epochs=epochs,\n",
    "                        batch_size=batch_size, learning_rate=1e-3, validation_split=0.2,\n",
    "                        plot_history=True, save_model=True, saving_path='./models/'+model_name+\".pth\")"
   ]
  },
  {
   "cell_type": "code",
   "execution_count": 17,
   "metadata": {},
   "outputs": [
    {
     "data": {
      "text/plain": [
       "BetaVAE(\n",
       "  (encoder): Encoder(\n",
       "    (flatten): Flatten(start_dim=1, end_dim=-1)\n",
       "    (dense): Linear(in_features=19950, out_features=128, bias=True)\n",
       "    (fc1): Linear(in_features=128, out_features=64, bias=True)\n",
       "    (fc2): Linear(in_features=64, out_features=32, bias=True)\n",
       "    (dense_mean): Linear(in_features=32, out_features=8, bias=True)\n",
       "    (dense_log_var): Linear(in_features=32, out_features=8, bias=True)\n",
       "    (sampling): Sampling()\n",
       "  )\n",
       "  (sampling): Sampling()\n",
       "  (decoder): Decoder(\n",
       "    (dense): Linear(in_features=8, out_features=32, bias=True)\n",
       "    (fc1): Linear(in_features=32, out_features=64, bias=True)\n",
       "    (fc2): Linear(in_features=64, out_features=128, bias=True)\n",
       "    (fc3): Linear(in_features=128, out_features=19950, bias=True)\n",
       "  )\n",
       ")"
      ]
     },
     "execution_count": 17,
     "metadata": {},
     "output_type": "execute_result"
    }
   ],
   "source": [
    "model = BetaVAE(beta=1, latent_dim=8)\n",
    "model.load_state_dict(torch.load('./models/model_zdim_8_beta_1_epochs_50.pth'))\n",
    "model.eval()"
   ]
  }
 ],
 "metadata": {
  "kernelspec": {
   "display_name": "allwhatyouneed",
   "language": "python",
   "name": "python3"
  },
  "language_info": {
   "codemirror_mode": {
    "name": "ipython",
    "version": 3
   },
   "file_extension": ".py",
   "mimetype": "text/x-python",
   "name": "python",
   "nbconvert_exporter": "python",
   "pygments_lexer": "ipython3",
   "version": "3.9.7"
  },
  "orig_nbformat": 4
 },
 "nbformat": 4,
 "nbformat_minor": 2
}
